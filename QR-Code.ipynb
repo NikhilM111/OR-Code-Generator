{
 "cells": [
  {
   "cell_type": "code",
   "execution_count": 2,
   "id": "99c40a5f-32f9-44ac-b7bd-81c961c042da",
   "metadata": {},
   "outputs": [
    {
     "name": "stdin",
     "output_type": "stream",
     "text": [
      "enter an link to embed it to QRcode https://www.youtube.com/watch?v=74lRPhChwPA\n"
     ]
    }
   ],
   "source": [
    "#import qrcode library\n",
    "import qrcode\n",
    "#applying QR code design details\n",
    "link=qrcode.QRCode(border=30)\n",
    "#Dynamic entery of link\n",
    "a=input(\"enter an link to embed it to QRcode\")\n",
    "#Adding link to qrcode through Dynamic\n",
    "link.add_data(a)\n",
    "\n",
    "#this couple of lines help to create an QR image with there outlook\n",
    "qr_img=link.make_image(fill_color=\"blue\",back_color=\"white\")\n",
    "qr_img.save(\"image1.png\") #This is an self generating image we are not using any kind of local image "
   ]
  },
  {
   "cell_type": "code",
   "execution_count": null,
   "id": "dd8e64f8-a8e5-4e70-b7fc-960013ee1a82",
   "metadata": {},
   "outputs": [],
   "source": []
  }
 ],
 "metadata": {
  "kernelspec": {
   "display_name": "Python 3 (ipykernel)",
   "language": "python",
   "name": "python3"
  },
  "language_info": {
   "codemirror_mode": {
    "name": "ipython",
    "version": 3
   },
   "file_extension": ".py",
   "mimetype": "text/x-python",
   "name": "python",
   "nbconvert_exporter": "python",
   "pygments_lexer": "ipython3",
   "version": "3.10.9"
  }
 },
 "nbformat": 4,
 "nbformat_minor": 5
}
